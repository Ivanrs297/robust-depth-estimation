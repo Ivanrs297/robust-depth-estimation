{
 "cells": [
  {
   "cell_type": "markdown",
   "metadata": {},
   "source": [
    "# Mean Depth Estimation Error (mDEE) for Monocular Depth Estimation (MDE)\n",
    "\n",
    "$$\n",
    "\\text{mDEE} = \\frac{1}{N \\times S} \\sum_{i=1}^{N} \\sum_{s=1}^{S} \\left(\\frac{\\text{E}_{i,s}}{\\text{E}_{\\text{base},i,s}} \\right)\n",
    "$$\n",
    "\n",
    "To incorporate different perturbations and severities into the mDEE equation, we adjust it to account for the varying impact of each type of corruption on depth estimation accuracy. This extended formula integrates the severity levels of perturbations:\n",
    "\n",
    "\n",
    "\n",
    "$N$ is the number of perturbations, $S$ is the number of severity levels for each perturbation\n",
    "\n",
    "$\\text{E}_{i,s}$ is the error for the $i_{th}$ perturbation at severity level $s$ \n",
    "\n",
    "$\\text{E}_{\\text{base},i,s}$ is the baseline error for the same\n",
    "\n",
    "$\\alpha_{i,s}$ and $\\beta_{i,s}$ are weights for accuracy and consistency at each perturbation and severity level\n",
    "\n",
    "$\\text{Var}_{i,s}$ is the variance in depth estimation error for added robustness assessment."
   ]
  },
  {
   "cell_type": "code",
   "execution_count": 20,
   "metadata": {},
   "outputs": [],
   "source": [
    "import torch\n",
    "\n",
    "# Extended mDEE calculation including perturbation and severity\n",
    "def calculate_extended_mdee(predictions, ground_truth, baseline_errors, alpha, beta):\n",
    "\n",
    "    # Assuming BxCxHxW format\n",
    "    depth_errors = torch.abs(predictions - ground_truth).mean(dim=[1, 2, 3])  \n",
    "\n",
    "    normalized_errors = depth_errors / baseline_errors\n",
    "\n",
    "    # Alpha and Beta errors and variances\n",
    "    weighted_errors = alpha * normalized_errors\n",
    "    weighted_variances = beta * torch.var(normalized_errors, unbiased=False)\n",
    "\n",
    "    mdee = (weighted_errors + weighted_variances).mean()\n",
    "    return mdee\n",
    "\n"
   ]
  },
  {
   "cell_type": "markdown",
   "metadata": {},
   "source": [
    "# Example"
   ]
  },
  {
   "cell_type": "code",
   "execution_count": 21,
   "metadata": {},
   "outputs": [],
   "source": [
    "import torch\n",
    "import torch.nn as nn\n",
    "import numpy as np\n",
    "\n",
    "class SimpleDepthModel(nn.Module):\n",
    "    def __init__(self):\n",
    "        super(SimpleDepthModel, self).__init__()\n",
    "        self.conv1 = nn.Conv2d(3, 16, kernel_size=3, stride=1, padding=1)\n",
    "        self.relu = nn.ReLU()\n",
    "        self.conv2 = nn.Conv2d(16, 1, kernel_size=3, stride=1, padding=1)\n",
    "\n",
    "    def forward(self, x):\n",
    "        x = self.relu(self.conv1(x))\n",
    "        x = self.conv2(x)\n",
    "        return x\n"
   ]
  },
  {
   "cell_type": "code",
   "execution_count": 22,
   "metadata": {},
   "outputs": [],
   "source": [
    "def naive_calculate_mdee(predictions, ground_truth):\n",
    "    depth_errors = torch.abs(predictions - ground_truth)\n",
    "    mean_depth_errors = depth_errors.mean()\n",
    "    return mean_depth_errors\n",
    "\n",
    "# Example usage\n",
    "model = SimpleDepthModel()\n",
    "input_tensor = torch.rand(10, 3, 224, 224)\n",
    "ground_truth = torch.rand(10, 1, 224, 224)\n",
    "predictions = model(input_tensor)"
   ]
  },
  {
   "cell_type": "code",
   "execution_count": 23,
   "metadata": {},
   "outputs": [
    {
     "name": "stdout",
     "output_type": "stream",
     "text": [
      "Mean Depth Estimation Error (mDEE): 0.5277677774429321\n"
     ]
    }
   ],
   "source": [
    "# Calculate mDEE\n",
    "mdee_score = naive_calculate_mdee(predictions, ground_truth)\n",
    "print(f\"Mean Depth Estimation Error (mDEE): {mdee_score.item()}\")"
   ]
  },
  {
   "cell_type": "markdown",
   "metadata": {},
   "source": [
    "## Example perturbation"
   ]
  },
  {
   "cell_type": "code",
   "execution_count": 24,
   "metadata": {},
   "outputs": [],
   "source": [
    "def add_gaussian_noise(images, severity):\n",
    "    noise = torch.randn_like(images) * severity\n",
    "    return images + noise"
   ]
  },
  {
   "cell_type": "markdown",
   "metadata": {},
   "source": [
    "## Initialize model, inputs, and ground truth"
   ]
  },
  {
   "cell_type": "code",
   "execution_count": 25,
   "metadata": {},
   "outputs": [],
   "source": [
    "model = SimpleDepthModel()\n",
    "input_tensor = torch.rand(10, 3, 224, 224)  # Batch of images\n",
    "ground_truth = torch.rand(10, 1, 224, 224)  # Corresponding ground truth depth maps"
   ]
  },
  {
   "cell_type": "markdown",
   "metadata": {},
   "source": [
    "### Severity Levels for Perturbation (Gaussian)"
   ]
  },
  {
   "cell_type": "code",
   "execution_count": 26,
   "metadata": {},
   "outputs": [],
   "source": [
    "severity_levels = [0.01, 0.05, 0.1]\n",
    "\n",
    "alpha = 1  # Weight for accuracy\n",
    "beta = 0.1  # Weight for consistency\n",
    "\n",
    "# TODO: baseline errors from another model\n",
    "# Example baseline error for normalization\n",
    "baseline_errors = torch.tensor([0.05])  "
   ]
  },
  {
   "cell_type": "markdown",
   "metadata": {},
   "source": [
    "### Evaluate mDEE under different noise severities"
   ]
  },
  {
   "cell_type": "code",
   "execution_count": 33,
   "metadata": {},
   "outputs": [
    {
     "name": "stdout",
     "output_type": "stream",
     "text": [
      "Partial mDEE with noise severity 0.01: 10.845612525939941\n",
      "Partial mDEE with noise severity 0.05: 10.854713439941406\n",
      "Partial mDEE with noise severity 0.1: 10.882315635681152\n"
     ]
    }
   ],
   "source": [
    "history_mdee_score = []\n",
    "\n",
    "for severity in severity_levels:\n",
    "    noisy_input = add_gaussian_noise(input_tensor, severity)\n",
    "    predictions = model(noisy_input)\n",
    "    partial_mdee_score = calculate_extended_mdee(predictions, ground_truth, baseline_errors, alpha, beta)\n",
    "    history_mdee_score.append(partial_mdee_score.item())\n",
    "    print(f\"Partial mDEE with noise severity {severity}: {partial_mdee_score.item()}\")"
   ]
  },
  {
   "cell_type": "code",
   "execution_count": 34,
   "metadata": {},
   "outputs": [
    {
     "data": {
      "text/plain": [
       "[10.845612525939941, 10.854713439941406, 10.882315635681152]"
      ]
     },
     "execution_count": 34,
     "metadata": {},
     "output_type": "execute_result"
    }
   ],
   "source": [
    "history_mdee_score"
   ]
  },
  {
   "cell_type": "code",
   "execution_count": 35,
   "metadata": {},
   "outputs": [
    {
     "data": {
      "text/plain": [
       "10.860880533854166"
      ]
     },
     "execution_count": 35,
     "metadata": {},
     "output_type": "execute_result"
    }
   ],
   "source": [
    "np.mean(history_mdee_score)"
   ]
  },
  {
   "cell_type": "markdown",
   "metadata": {},
   "source": [
    "# More Perturbations"
   ]
  },
  {
   "cell_type": "code",
   "execution_count": 41,
   "metadata": {},
   "outputs": [],
   "source": [
    "import torch\n",
    "import torch.nn as nn\n",
    "import torch.nn.functional as F\n",
    "\n",
    "def adjust_brightness(images, brightness_factor):\n",
    "    return images * brightness_factor\n",
    "\n",
    "def adjust_contrast(images, contrast_factor):\n",
    "    means = torch.mean(images, dim=[2, 3], keepdim=True)\n",
    "    return (images - means) * contrast_factor + means\n",
    "\n",
    "def apply_blur(images, kernel_size):\n",
    "    padding = kernel_size // 2\n",
    "    for i in range(images.shape[0]):\n",
    "        images[i] = F.conv2d(images[i].unsqueeze(0), weight=get_gaussian_kernel(kernel_size), padding=padding, groups=3)\n",
    "    return images\n",
    "\n",
    "def get_gaussian_kernel(kernel_size, sigma=2):\n",
    "    x = torch.arange(kernel_size).float() - kernel_size // 2\n",
    "    gauss = torch.exp(-x**2 / float(2 * sigma**2))\n",
    "    gauss = gauss / gauss.sum()\n",
    "    _1D_kernel = gauss.unsqueeze(1)\n",
    "    _2D_kernel = _1D_kernel.mm(_1D_kernel.t())\n",
    "    kernel = _2D_kernel.expand(3, 1, kernel_size, kernel_size)\n",
    "    return kernel"
   ]
  },
  {
   "cell_type": "code",
   "execution_count": 45,
   "metadata": {},
   "outputs": [],
   "source": [
    "# Perturbations and Severities\n",
    "perturbations = [\n",
    "    (add_gaussian_noise, [0.01, 0.05, 0.1]),\n",
    "    (adjust_brightness, [0.8, 1, 1.2]),\n",
    "    (adjust_contrast, [0.8, 1, 1.2]),\n",
    "    (apply_blur, [3, 5, 7])\n",
    "]"
   ]
  },
  {
   "cell_type": "code",
   "execution_count": 46,
   "metadata": {},
   "outputs": [
    {
     "name": "stdout",
     "output_type": "stream",
     "text": [
      "Extended mDEE with add_gaussian_noise severity 0.01: 10.438209533691406\n",
      "Extended mDEE with add_gaussian_noise severity 0.05: 10.451985359191895\n",
      "Extended mDEE with add_gaussian_noise severity 0.1: 10.491411209106445\n",
      "Extended mDEE with adjust_brightness severity 0.8: 9.809255599975586\n",
      "Extended mDEE with adjust_brightness severity 1: 10.437601089477539\n",
      "Extended mDEE with adjust_brightness severity 1.2: 11.12680435180664\n",
      "Extended mDEE with adjust_contrast severity 0.8: 10.427228927612305\n",
      "Extended mDEE with adjust_contrast severity 1: 10.437601089477539\n",
      "Extended mDEE with adjust_contrast severity 1.2: 10.449738502502441\n",
      "Extended mDEE with apply_blur severity 3: 10.43205451965332\n",
      "Extended mDEE with apply_blur severity 5: 10.419679641723633\n",
      "Extended mDEE with apply_blur severity 7: 10.404075622558594\n"
     ]
    }
   ],
   "source": [
    "# Example implementation for all perturbations type and severity\n",
    "for perturb_func, severities in perturbations:\n",
    "    for severity in severities:\n",
    "        perturbed_input = perturb_func(input_tensor, severity)\n",
    "        predictions = model(perturbed_input)\n",
    "\n",
    "        \n",
    "        # Calculate and print mDEE for each perturbation and severity\n",
    "        mdee_score = calculate_extended_mdee(predictions, ground_truth, baseline_errors, alpha, beta)\n",
    "        print(f\"Extended mDEE with {perturb_func.__name__} severity {severity}: {mdee_score.item()}\")"
   ]
  },
  {
   "cell_type": "markdown",
   "metadata": {},
   "source": [
    "# Example: Baseline vs Our Model"
   ]
  },
  {
   "cell_type": "code",
   "execution_count": 47,
   "metadata": {},
   "outputs": [],
   "source": [
    "class BaselineDepthModel(nn.Module):\n",
    "    def __init__(self):\n",
    "        super(BaselineDepthModel, self).__init__()\n",
    "        self.conv1 = nn.Conv2d(3, 8, kernel_size=5, stride=1, padding=2)\n",
    "        self.relu = nn.ReLU()\n",
    "        self.conv2 = nn.Conv2d(8, 1, kernel_size=5, stride=1, padding=2)\n",
    "\n",
    "    def forward(self, x):\n",
    "        x = self.relu(self.conv1(x))\n",
    "        x = self.conv2(x)\n",
    "        return x"
   ]
  },
  {
   "cell_type": "code",
   "execution_count": 48,
   "metadata": {},
   "outputs": [],
   "source": [
    "primary_model = SimpleDepthModel()\n",
    "baseline_model = BaselineDepthModel()\n",
    "\n",
    "# Example input and ground truth\n",
    "input_tensor = torch.rand(10, 3, 224, 224)\n",
    "ground_truth = torch.rand(10, 1, 224, 224)"
   ]
  },
  {
   "cell_type": "code",
   "execution_count": 67,
   "metadata": {},
   "outputs": [],
   "source": [
    "def _mdee(model, input_tensor, baseline_errors = 1):\n",
    "    perturbation_list = []\n",
    "\n",
    "    for perturb_func, severities in perturbations:\n",
    "        \n",
    "        severity_list = []\n",
    "        for severity in severities:\n",
    "            perturbed_input = perturb_func(input_tensor, severity)\n",
    "            predictions = model(perturbed_input)\n",
    "\n",
    "            \n",
    "            # Calculate and print mDEE for each perturbation and severity\n",
    "            mdee_score = calculate_extended_mdee(predictions, ground_truth, baseline_errors, alpha, beta)\n",
    "            severity_list.append(mdee_score.item())\n",
    "\n",
    "            # print(f\"Extended mDEE with {perturb_func.__name__} severity {severity}: {mdee_score.item()}\")\n",
    "        \n",
    "        perturbation_list.append(np.mean(severity_list))\n",
    "    \n",
    "    return np.mean(perturbation_list)"
   ]
  },
  {
   "cell_type": "markdown",
   "metadata": {},
   "source": [
    "### Baseline Model"
   ]
  },
  {
   "cell_type": "code",
   "execution_count": 68,
   "metadata": {},
   "outputs": [
    {
     "name": "stdout",
     "output_type": "stream",
     "text": [
      "mDEE:  0.6669695923725764\n"
     ]
    }
   ],
   "source": [
    "with torch.no_grad():\n",
    "    base_performance = _mdee(baseline_model, input_tensor)\n",
    "    print(\"mDEE: \", base_performance)"
   ]
  },
  {
   "cell_type": "markdown",
   "metadata": {},
   "source": [
    "### Our Model"
   ]
  },
  {
   "cell_type": "code",
   "execution_count": 69,
   "metadata": {},
   "outputs": [
    {
     "name": "stdout",
     "output_type": "stream",
     "text": [
      "mDEE:  0.7470979541540146\n"
     ]
    }
   ],
   "source": [
    "with torch.no_grad():\n",
    "    our_performance = _mdee(primary_model, input_tensor, base_performance)\n",
    "    print(\"mDEE: \", our_performance)"
   ]
  },
  {
   "cell_type": "markdown",
   "metadata": {},
   "source": [
    "base: https://github.com/nianticlabs/monodepth2 (en espera de entrenado)\n",
    "\n",
    "model1: https://github.com/ShuweiShao/AF-SfMLearner (ya todo en SCARED) en este empiezo\n",
    "\n",
    "model2: https://github.com/CapsuleEndoscope/EndoSLAM/tree/master/EndoSfMLearner (en espera de model entrenado)\n",
    "\n",
    "model3: https://github.com/zxcqlf/MonoViT/tree/main (en espera de entrenado)\n",
    "\n",
    "our: https://github.com/RicardoEspinosaLoera/endo-manydepth/tree/master/manydepth (pendiente de modelo)\n"
   ]
  },
  {
   "cell_type": "markdown",
   "metadata": {},
   "source": []
  }
 ],
 "metadata": {
  "kernelspec": {
   "display_name": "Python 3",
   "language": "python",
   "name": "python3"
  },
  "language_info": {
   "codemirror_mode": {
    "name": "ipython",
    "version": 3
   },
   "file_extension": ".py",
   "mimetype": "text/x-python",
   "name": "python",
   "nbconvert_exporter": "python",
   "pygments_lexer": "ipython3",
   "version": "3.8.0"
  }
 },
 "nbformat": 4,
 "nbformat_minor": 2
}
