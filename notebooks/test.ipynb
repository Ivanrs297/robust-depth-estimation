{
 "cells": [
  {
   "cell_type": "markdown",
   "metadata": {},
   "source": [
    "CUDA_VISIBLE_DEVICES=0 python evaluate_depth.py --data_path D:\\\\Phd_Research\\\\Datasets\\\\ENDOVIS\\\\ENDOVIS_ --load_weights_folder D:\\\\Phd_Research\\\\UL\\\\depth_weigths\\\\Model_MIA\\\\weights_19 --eval_mono"
   ]
  },
  {
   "cell_type": "markdown",
   "metadata": {},
   "source": [
    "CUDA_VISIBLE_DEVICES=0 python evaluate_depth.py --data_path D:\\\\Phd_Research\\\\Datasets\\\\ENDOVIS\\\\ENDOVIS_ --load_weights_folder D:\\\\Phd_Research\\\\UL\\\\depth_weigths\\\\Model_MIA\\\\weights_19 --eval_mono"
   ]
  },
  {
   "cell_type": "code",
   "execution_count": 3,
   "metadata": {},
   "outputs": [
    {
     "name": "stdout",
     "output_type": "stream",
     "text": [
      "gaussian_noise\n",
      "shot_noise\n",
      "impulse_noise\n",
      "defocus_blur\n",
      "glass_blur\n",
      "motion_blur\n",
      "zoom_blur\n",
      "snow\n",
      "frost\n",
      "fog\n",
      "brightness\n",
      "contrast\n",
      "elastic_transform\n",
      "pixelate\n",
      "jpeg_compression\n"
     ]
    }
   ],
   "source": [
    "from imagecorruptions import get_corruption_names\n",
    "\n",
    "\n",
    "for corruption in get_corruption_names():\n",
    "    print(corruption)"
   ]
  },
  {
   "cell_type": "code",
   "execution_count": null,
   "metadata": {},
   "outputs": [],
   "source": []
  }
 ],
 "metadata": {
  "kernelspec": {
   "display_name": "PhD",
   "language": "python",
   "name": "python3"
  },
  "language_info": {
   "codemirror_mode": {
    "name": "ipython",
    "version": 3
   },
   "file_extension": ".py",
   "mimetype": "text/x-python",
   "name": "python",
   "nbconvert_exporter": "python",
   "pygments_lexer": "ipython3",
   "version": "3.8.0"
  }
 },
 "nbformat": 4,
 "nbformat_minor": 2
}
